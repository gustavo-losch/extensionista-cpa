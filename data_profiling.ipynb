{
 "cells": [
  {
   "cell_type": "code",
   "execution_count": 19,
   "id": "fc13f6d2",
   "metadata": {},
   "outputs": [],
   "source": [
    "import numpy as np\n",
    "import pandas as pd\n",
    "from ydata_profiling import ProfileReport"
   ]
  },
  {
   "cell_type": "code",
   "execution_count": 20,
   "id": "34b1f7ec",
   "metadata": {},
   "outputs": [
    {
     "name": "stderr",
     "output_type": "stream",
     "text": [
      "/var/folders/y7/h9b651_1543gvb5qx83kjqg40000gn/T/ipykernel_41658/2320929681.py:2: DtypeWarning: Columns (31) have mixed types. Specify dtype option on import or set low_memory=False.\n",
      "  censo = pd.read_csv(\"datasets/censo-escolar/dados/microdados_ed_basica_2023.csv\", sep=\";\", encoding=\"latin\")\n"
     ]
    }
   ],
   "source": [
    "saeb = pd.read_csv(\"datasets/saeb/DADOS/TS_ALUNO_2EF.csv\", sep=\";\")\n",
    "censo = pd.read_csv(\"datasets/censo-escolar/dados/microdados_ed_basica_2023.csv\", sep=\";\", encoding=\"latin\")"
   ]
  },
  {
   "cell_type": "code",
   "execution_count": null,
   "id": "f80cfc9d",
   "metadata": {},
   "outputs": [],
   "source": [
    "profiles = ProfileReport(saeb, title=\"SAEB Profiling Report\", explorative=True)\n",
    "profilec = ProfileReport(censo, title=\"Censo Profiling Report\", minimal=True, explorative=True)\n"
   ]
  },
  {
   "cell_type": "code",
   "execution_count": null,
   "id": "1e47b0cf",
   "metadata": {},
   "outputs": [],
   "source": [
    "profiles.to_file(\"profiling-saeb.html\")\n",
    "profilec.to_file(\"profiling-censo.html\")"
   ]
  }
 ],
 "metadata": {
  "kernelspec": {
   "display_name": "ext",
   "language": "python",
   "name": "python3"
  },
  "language_info": {
   "codemirror_mode": {
    "name": "ipython",
    "version": 3
   },
   "file_extension": ".py",
   "mimetype": "text/x-python",
   "name": "python",
   "nbconvert_exporter": "python",
   "pygments_lexer": "ipython3",
   "version": "3.10.16"
  }
 },
 "nbformat": 4,
 "nbformat_minor": 5
}
