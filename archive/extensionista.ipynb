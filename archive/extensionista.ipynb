{
 "cells": [
  {
   "cell_type": "code",
   "execution_count": 2,
   "metadata": {},
   "outputs": [],
   "source": [
    "import pandas as pd"
   ]
  },
  {
   "cell_type": "code",
   "execution_count": 4,
   "metadata": {},
   "outputs": [
    {
     "name": "stderr",
     "output_type": "stream",
     "text": [
      "/var/folders/y7/h9b651_1543gvb5qx83kjqg40000gn/T/ipykernel_52560/2247311929.py:1: DtypeWarning: Columns (31) have mixed types. Specify dtype option on import or set low_memory=False.\n",
      "  df = pd.read_csv(\"datasets/microdados_censo_escolar_2023/dados/microdados_ed_basica_2023.csv\", encoding=\"latin\", sep=\";\")\n"
     ]
    }
   ],
   "source": [
    "df = pd.read_csv(\"datasets/microdados_censo_escolar_2023/dados/microdados_ed_basica_2023.csv\", encoding=\"latin\", sep=\";\")"
   ]
  },
  {
   "cell_type": "code",
   "execution_count": 10,
   "metadata": {},
   "outputs": [
    {
     "data": {
      "text/html": [
       "<div>\n",
       "<style scoped>\n",
       "    .dataframe tbody tr th:only-of-type {\n",
       "        vertical-align: middle;\n",
       "    }\n",
       "\n",
       "    .dataframe tbody tr th {\n",
       "        vertical-align: top;\n",
       "    }\n",
       "\n",
       "    .dataframe thead th {\n",
       "        text-align: right;\n",
       "    }\n",
       "</style>\n",
       "<table border=\"1\" class=\"dataframe\">\n",
       "  <thead>\n",
       "    <tr style=\"text-align: right;\">\n",
       "      <th></th>\n",
       "      <th>NU_ANO_CENSO</th>\n",
       "      <th>NO_REGIAO</th>\n",
       "      <th>CO_REGIAO</th>\n",
       "      <th>NO_UF</th>\n",
       "      <th>SG_UF</th>\n",
       "      <th>CO_UF</th>\n",
       "      <th>NO_MUNICIPIO</th>\n",
       "      <th>CO_MUNICIPIO</th>\n",
       "      <th>NO_REGIAO_GEOG_INTERM</th>\n",
       "      <th>CO_REGIAO_GEOG_INTERM</th>\n",
       "      <th>...</th>\n",
       "      <th>QT_TUR_BAS_D</th>\n",
       "      <th>QT_TUR_BAS_N</th>\n",
       "      <th>QT_TUR_BAS_EAD</th>\n",
       "      <th>QT_TUR_INF_INT</th>\n",
       "      <th>QT_TUR_INF_CRE_INT</th>\n",
       "      <th>QT_TUR_INF_PRE_INT</th>\n",
       "      <th>QT_TUR_FUND_INT</th>\n",
       "      <th>QT_TUR_FUND_AI_INT</th>\n",
       "      <th>QT_TUR_FUND_AF_INT</th>\n",
       "      <th>QT_TUR_MED_INT</th>\n",
       "    </tr>\n",
       "  </thead>\n",
       "  <tbody>\n",
       "  </tbody>\n",
       "</table>\n",
       "<p>0 rows × 408 columns</p>\n",
       "</div>"
      ],
      "text/plain": [
       "Empty DataFrame\n",
       "Columns: [NU_ANO_CENSO, NO_REGIAO, CO_REGIAO, NO_UF, SG_UF, CO_UF, NO_MUNICIPIO, CO_MUNICIPIO, NO_REGIAO_GEOG_INTERM, CO_REGIAO_GEOG_INTERM, NO_REGIAO_GEOG_IMED, CO_REGIAO_GEOG_IMED, NO_MESORREGIAO, CO_MESORREGIAO, NO_MICRORREGIAO, CO_MICRORREGIAO, CO_DISTRITO, NO_ENTIDADE, CO_ENTIDADE, TP_DEPENDENCIA, TP_CATEGORIA_ESCOLA_PRIVADA, TP_LOCALIZACAO, TP_LOCALIZACAO_DIFERENCIADA, DS_ENDERECO, NU_ENDERECO, DS_COMPLEMENTO, NO_BAIRRO, CO_CEP, NU_DDD, NU_TELEFONE, TP_SITUACAO_FUNCIONAMENTO, CO_ORGAO_REGIONAL, DT_ANO_LETIVO_INICIO, DT_ANO_LETIVO_TERMINO, IN_VINCULO_SECRETARIA_EDUCACAO, IN_VINCULO_SEGURANCA_PUBLICA, IN_VINCULO_SECRETARIA_SAUDE, IN_VINCULO_OUTRO_ORGAO, IN_PODER_PUBLICO_PARCERIA, TP_PODER_PUBLICO_PARCERIA, IN_FORMA_CONT_TERMO_COLABORA, IN_FORMA_CONT_TERMO_FOMENTO, IN_FORMA_CONT_ACORDO_COOP, IN_FORMA_CONT_PRESTACAO_SERV, IN_FORMA_CONT_COOP_TEC_FIN, IN_FORMA_CONT_CONSORCIO_PUB, IN_FORMA_CONT_MU_TERMO_COLAB, IN_FORMA_CONT_MU_TERMO_FOMENTO, IN_FORMA_CONT_MU_ACORDO_COOP, IN_FORMA_CONT_MU_PREST_SERV, IN_FORMA_CONT_MU_COOP_TEC_FIN, IN_FORMA_CONT_MU_CONSORCIO_PUB, IN_FORMA_CONT_ES_TERMO_COLAB, IN_FORMA_CONT_ES_TERMO_FOMENTO, IN_FORMA_CONT_ES_ACORDO_COOP, IN_FORMA_CONT_ES_PREST_SERV, IN_FORMA_CONT_ES_COOP_TEC_FIN, IN_FORMA_CONT_ES_CONSORCIO_PUB, IN_MANT_ESCOLA_PRIVADA_EMP, IN_MANT_ESCOLA_PRIVADA_ONG, IN_MANT_ESCOLA_PRIVADA_OSCIP, IN_MANT_ESCOLA_PRIV_ONG_OSCIP, IN_MANT_ESCOLA_PRIVADA_SIND, IN_MANT_ESCOLA_PRIVADA_SIST_S, IN_MANT_ESCOLA_PRIVADA_S_FINS, NU_CNPJ_ESCOLA_PRIVADA, NU_CNPJ_MANTENEDORA, TP_REGULAMENTACAO, TP_RESPONSAVEL_REGULAMENTACAO, CO_ESCOLA_SEDE_VINCULADA, CO_IES_OFERTANTE, IN_LOCAL_FUNC_PREDIO_ESCOLAR, TP_OCUPACAO_PREDIO_ESCOLAR, IN_LOCAL_FUNC_SOCIOEDUCATIVO, IN_LOCAL_FUNC_UNID_PRISIONAL, IN_LOCAL_FUNC_PRISIONAL_SOCIO, IN_LOCAL_FUNC_GALPAO, TP_OCUPACAO_GALPAO, IN_LOCAL_FUNC_SALAS_OUTRA_ESC, IN_LOCAL_FUNC_OUTROS, IN_PREDIO_COMPARTILHADO, IN_AGUA_POTAVEL, IN_AGUA_REDE_PUBLICA, IN_AGUA_POCO_ARTESIANO, IN_AGUA_CACIMBA, IN_AGUA_FONTE_RIO, IN_AGUA_INEXISTENTE, IN_ENERGIA_REDE_PUBLICA, IN_ENERGIA_GERADOR_FOSSIL, IN_ENERGIA_RENOVAVEL, IN_ENERGIA_INEXISTENTE, IN_ESGOTO_REDE_PUBLICA, IN_ESGOTO_FOSSA_SEPTICA, IN_ESGOTO_FOSSA_COMUM, IN_ESGOTO_FOSSA, IN_ESGOTO_INEXISTENTE, IN_LIXO_SERVICO_COLETA, IN_LIXO_QUEIMA, IN_LIXO_ENTERRA, IN_LIXO_DESTINO_FINAL_PUBLICO, ...]\n",
       "Index: []\n",
       "\n",
       "[0 rows x 408 columns]"
      ]
     },
     "execution_count": 10,
     "metadata": {},
     "output_type": "execute_result"
    }
   ],
   "source": [
    "df.head(0)"
   ]
  }
 ],
 "metadata": {
  "kernelspec": {
   "display_name": "cpa",
   "language": "python",
   "name": "python3"
  },
  "language_info": {
   "codemirror_mode": {
    "name": "ipython",
    "version": 3
   },
   "file_extension": ".py",
   "mimetype": "text/x-python",
   "name": "python",
   "nbconvert_exporter": "python",
   "pygments_lexer": "ipython3",
   "version": "3.13.2"
  }
 },
 "nbformat": 4,
 "nbformat_minor": 2
}
