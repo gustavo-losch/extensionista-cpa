{
 "cells": [
  {
   "cell_type": "code",
   "execution_count": 1,
   "id": "91b5dafb",
   "metadata": {},
   "outputs": [],
   "source": [
    "import pandas as pd\n",
    "import numpy as np"
   ]
  },
  {
   "cell_type": "code",
   "execution_count": 2,
   "id": "3f8ac8be",
   "metadata": {},
   "outputs": [
    {
     "name": "stderr",
     "output_type": "stream",
     "text": [
      "/var/folders/y7/h9b651_1543gvb5qx83kjqg40000gn/T/ipykernel_1093/4264899146.py:1: DtypeWarning: Columns (31) have mixed types. Specify dtype option on import or set low_memory=False.\n",
      "  dfcenso = pd.read_csv(\"/Users/elainelosch/gustavo/datasets/censo-escolar/dados/microdados_ed_basica_2023.csv\", encoding=\"latin\", sep=\";\")\n",
      "/var/folders/y7/h9b651_1543gvb5qx83kjqg40000gn/T/ipykernel_1093/4264899146.py:3: DtypeWarning: Columns (41,42,43,44,45,46,47,48,49) have mixed types. Specify dtype option on import or set low_memory=False.\n",
      "  dfsaeb5ef = pd.read_csv(\"/Users/elainelosch/gustavo/datasets/saeb/DADOS/TS_ALUNO_5EF.csv\", encoding=\"latin\", sep=\";\")\n",
      "/var/folders/y7/h9b651_1543gvb5qx83kjqg40000gn/T/ipykernel_1093/4264899146.py:4: DtypeWarning: Columns (41,42,43,44,45,46,47,48,49) have mixed types. Specify dtype option on import or set low_memory=False.\n",
      "  dfsaeb9ef = pd.read_csv(\"/Users/elainelosch/gustavo/datasets/saeb/DADOS/TS_ALUNO_9EF.csv\", encoding=\"latin\", sep=\";\")\n"
     ]
    }
   ],
   "source": [
    "dfcenso = pd.read_csv(\"/Users/elainelosch/gustavo/datasets/censo-escolar/dados/microdados_ed_basica_2023.csv\", encoding=\"latin\", sep=\";\")\n",
    "dfsaeb2ef = pd.read_csv(\"/Users/elainelosch/gustavo/datasets/saeb/DADOS/TS_ALUNO_2EF.csv\", encoding=\"latin\", sep=\";\")\n",
    "dfsaeb5ef = pd.read_csv(\"/Users/elainelosch/gustavo/datasets/saeb/DADOS/TS_ALUNO_5EF.csv\", encoding=\"latin\", sep=\";\")\n",
    "dfsaeb9ef = pd.read_csv(\"/Users/elainelosch/gustavo/datasets/saeb/DADOS/TS_ALUNO_9EF.csv\", encoding=\"latin\", sep=\";\")"
   ]
  },
  {
   "cell_type": "code",
   "execution_count": 3,
   "id": "b4d23c75",
   "metadata": {},
   "outputs": [],
   "source": [
    "dfcenso = dfcenso[[\n",
    "    \"NO_REGIAO\",\n",
    "    \"CO_UF\",\n",
    "    \"TP_DEPENDENCIA\",\n",
    "    # \"TP_CATEGORIA_ESCOLA_PRIVADA\",\n",
    "    \"TP_LOCALIZACAO\",\n",
    "    \"IN_AGUA_POTAVEL\",\n",
    "    \"IN_ENERGIA_INEXISTENTE\",\n",
    "    \"IN_BIBLIOTECA\",\n",
    "    \"IN_LABORATORIO_CIENCIAS\",\n",
    "    \"IN_LABORATORIO_INFORMATICA\",\n",
    "    \"IN_COMPUTADOR\",\n",
    "    \"IN_EQUIP_IMPRESSORA\",\n",
    "    \"IN_EQUIP_TV\",\n",
    "    \"QT_EQUIP_TV\",\n",
    "    \"IN_EQUIP_LOUSA_DIGITAL\",\n",
    "    \"QT_EQUIP_LOUSA_DIGITAL\",\n",
    "    \"IN_EQUIP_MULTIMIDIA\",\n",
    "    \"QT_EQUIP_MULTIMIDIA\",\n",
    "    \"IN_DESKTOP_ALUNO\",\n",
    "    \"QT_DESKTOP_ALUNO\",\n",
    "    \"IN_COMP_PORTATIL_ALUNO\",\n",
    "    \"QT_COMP_PORTATIL_ALUNO\",\n",
    "    \"IN_INTERNET\",\n",
    "    \"IN_INTERNET_ALUNOS\",\n",
    "    \"IN_MATERIAL_PED_MULTIMIDIA\"\n",
    "]]\n"
   ]
  },
  {
   "cell_type": "code",
   "execution_count": 4,
   "id": "cf327225",
   "metadata": {},
   "outputs": [
    {
     "data": {
      "text/plain": [
       "np.int64(0)"
      ]
     },
     "execution_count": 4,
     "metadata": {},
     "output_type": "execute_result"
    }
   ],
   "source": [
    "dfcenso.isnull().any(axis=1).sum()\n",
    "dfcenso.dropna(inplace=True)\n",
    "dfcenso.isnull().any(axis=1).sum()"
   ]
  },
  {
   "cell_type": "code",
   "execution_count": 5,
   "id": "71a85061",
   "metadata": {},
   "outputs": [],
   "source": [
    "uf_map = {\n",
    "    11: \"RO\", 12: \"AC\", 13: \"AM\", 14: \"RR\", 15: \"PA\", 16: \"AP\", 17: \"TO\",\n",
    "    21: \"MA\", 22: \"PI\", 23: \"CE\", 24: \"RN\", 25: \"PB\", 26: \"PE\", 27: \"AL\", 28: \"SE\", 29: \"BA\",\n",
    "    31: \"MG\", 32: \"ES\", 33: \"RJ\", 35: \"SP\",\n",
    "    41: \"PR\", 42: \"SC\", 43: \"RS\",\n",
    "    50: \"MS\", 51: \"MT\", 52: \"GO\", 53: \"DF\"\n",
    "}\n",
    "\n",
    "dependencia_map = {\n",
    "    1: \"Federal\",\n",
    "    2: \"Estadual\",\n",
    "    3: \"Municipal\",\n",
    "    4: \"Privada\"\n",
    "}\n",
    "\n",
    "local_map = {\n",
    "    1: \"Urbana\",\n",
    "    2: \"Rural\"\n",
    "}\n",
    "\n",
    "regiao_map = {\n",
    "    1: \"Norte\",\n",
    "    2: \"Nordeste\",\n",
    "    3: \"Sudeste\",\n",
    "    4: \"Sul\",\n",
    "    5: \"Centro-Oeste\"\n",
    "}\n",
    "\n",
    "publica_map = {\n",
    "    0: \"Privada\",\n",
    "    1: \"Publica\"\n",
    "}\n",
    "\n",
    "area_map = {\n",
    "    1: \"Capital\",\n",
    "    2: \"Interior\"\n",
    "}\n",
    "\n",
    "dep_proc_map = {\n",
    "    \"Privada\": \"Privada\",\n",
    "    \"Municipal\": \"Publica\",\n",
    "    \"Federal\": \"Publica\",\n",
    "    \"Estadual\": \"Publica\"\n",
    "}\n"
   ]
  },
  {
   "cell_type": "code",
   "execution_count": 6,
   "id": "32275757",
   "metadata": {},
   "outputs": [],
   "source": [
    "dfcenso[\"LOCALIZACAO_NOME\"] = dfcenso[\"TP_LOCALIZACAO\"].map(local_map)\n",
    "dfcenso[\"DEPENDENCIA_NOME\"] = dfcenso[\"TP_DEPENDENCIA\"].map(dependencia_map)\n",
    "dfcenso[\"DEPENDENCIA_NOME\"] = dfcenso[\"DEPENDENCIA_NOME\"].map(dep_proc_map)\n",
    "dfcenso[\"UF_NOME\"] = dfcenso[\"CO_UF\"].map(uf_map)\n"
   ]
  },
  {
   "cell_type": "code",
   "execution_count": 7,
   "id": "fa1ab97f",
   "metadata": {},
   "outputs": [],
   "source": [
    "def get_prop(x):\n",
    "    return x.value_counts(normalize=True).get(1, 0.0)"
   ]
  },
  {
   "cell_type": "code",
   "execution_count": 8,
   "id": "7316c6c7",
   "metadata": {},
   "outputs": [
    {
     "name": "stdout",
     "output_type": "stream",
     "text": [
      "{'IN_AGUA_POTAVEL': <function get_prop at 0x12e3e8040>, 'IN_ENERGIA_INEXISTENTE': <function get_prop at 0x12e3e8040>, 'IN_BIBLIOTECA': <function get_prop at 0x12e3e8040>, 'IN_LABORATORIO_CIENCIAS': <function get_prop at 0x12e3e8040>, 'IN_LABORATORIO_INFORMATICA': <function get_prop at 0x12e3e8040>, 'IN_COMPUTADOR': <function get_prop at 0x12e3e8040>, 'IN_EQUIP_IMPRESSORA': <function get_prop at 0x12e3e8040>, 'IN_EQUIP_TV': <function get_prop at 0x12e3e8040>, 'QT_EQUIP_TV': 'median', 'IN_EQUIP_LOUSA_DIGITAL': <function get_prop at 0x12e3e8040>, 'QT_EQUIP_LOUSA_DIGITAL': 'median', 'IN_EQUIP_MULTIMIDIA': <function get_prop at 0x12e3e8040>, 'QT_EQUIP_MULTIMIDIA': 'median', 'IN_DESKTOP_ALUNO': <function get_prop at 0x12e3e8040>, 'QT_DESKTOP_ALUNO': 'median', 'IN_COMP_PORTATIL_ALUNO': <function get_prop at 0x12e3e8040>, 'QT_COMP_PORTATIL_ALUNO': 'median', 'IN_INTERNET': <function get_prop at 0x12e3e8040>, 'IN_INTERNET_ALUNOS': <function get_prop at 0x12e3e8040>, 'IN_MATERIAL_PED_MULTIMIDIA': <function get_prop at 0x12e3e8040>}\n"
     ]
    }
   ],
   "source": [
    "agg_dict = {}\n",
    "\n",
    "for col in dfcenso.columns:\n",
    "    if col.startswith(\"IN_\"):\n",
    "        agg_dict[col] = get_prop\n",
    "    elif col.startswith(\"QT_\"):\n",
    "        agg_dict[col] = \"median\"\n",
    "\n",
    "print(agg_dict)"
   ]
  },
  {
   "cell_type": "code",
   "execution_count": 9,
   "id": "8e7dbe62",
   "metadata": {},
   "outputs": [],
   "source": [
    "dfc_agg=dfcenso.groupby([\"UF_NOME\",\"DEPENDENCIA_NOME\",\"LOCALIZACAO_NOME\"]).agg(agg_dict).reset_index()"
   ]
  },
  {
   "cell_type": "code",
   "execution_count": 10,
   "id": "2110aceb",
   "metadata": {},
   "outputs": [],
   "source": [
    "dfsaeb2ef = dfsaeb2ef[[\n",
    "    \"ID_REGIAO\",\n",
    "    \"ID_UF\",\n",
    "    \"ID_AREA\",\n",
    "    \"IN_PUBLICA\",\n",
    "    \"ID_LOCALIZACAO\",\n",
    "    \"IN_PREENCHIMENTO_LP\",\n",
    "    \"IN_PREENCHIMENTO_MT\",\n",
    "    \"PROFICIENCIA_MT\",\n",
    "    \"PROFICIENCIA_LP\"\n",
    "]]\n"
   ]
  },
  {
   "cell_type": "code",
   "execution_count": 11,
   "id": "576f269f",
   "metadata": {},
   "outputs": [
    {
     "data": {
      "text/plain": [
       "np.int64(0)"
      ]
     },
     "execution_count": 11,
     "metadata": {},
     "output_type": "execute_result"
    }
   ],
   "source": [
    "dfsaeb2ef.isnull().any(axis=1).sum()\n",
    "dfsaeb2ef.dropna(inplace=True)\n",
    "dfsaeb2ef.isnull().any(axis=1).sum()"
   ]
  },
  {
   "cell_type": "code",
   "execution_count": 12,
   "id": "1f03d840",
   "metadata": {},
   "outputs": [],
   "source": [
    "dfsaeb2ef[\"UF_NOME\"] = dfsaeb2ef[\"ID_UF\"].map(uf_map)\n",
    "dfsaeb2ef[\"REGIAO_NOME\"] = dfsaeb2ef[\"ID_REGIAO\"].map(regiao_map)\n",
    "dfsaeb2ef[\"DEPENDENCIA_NOME\"] = dfsaeb2ef[\"IN_PUBLICA\"].map(publica_map)\n",
    "dfsaeb2ef[\"URB_NOME\"] = dfsaeb2ef[\"ID_AREA\"].map(area_map)\n",
    "dfsaeb2ef[\"LOCALIZACAO_NOME\"] = dfsaeb2ef[\"ID_LOCALIZACAO\"].map(local_map)"
   ]
  },
  {
   "cell_type": "code",
   "execution_count": 13,
   "id": "dd988764",
   "metadata": {},
   "outputs": [],
   "source": [
    "dfsaeb2ef = dfsaeb2ef.drop(columns=['ID_REGIAO', 'ID_UF', 'ID_AREA', 'IN_PUBLICA', 'ID_LOCALIZACAO'])"
   ]
  },
  {
   "cell_type": "code",
   "execution_count": 14,
   "id": "e9b0aa67",
   "metadata": {},
   "outputs": [],
   "source": [
    "dfs2ef_agg = dfsaeb2ef.groupby(['UF_NOME', 'DEPENDENCIA_NOME', 'LOCALIZACAO_NOME']).agg({\n",
    "        'IN_PREENCHIMENTO_LP': get_prop,\n",
    "        'IN_PREENCHIMENTO_MT': get_prop,\n",
    "        'PROFICIENCIA_MT': \"median\",\n",
    "        'PROFICIENCIA_LP': \"median\"\n",
    "       }).reset_index()"
   ]
  },
  {
   "cell_type": "code",
   "execution_count": 15,
   "id": "1c5e2a79",
   "metadata": {},
   "outputs": [],
   "source": [
    "dfsaeb5ef = dfsaeb5ef[[\n",
    "    \"ID_REGIAO\",\n",
    "    \"ID_UF\",\n",
    "    \"ID_AREA\",\n",
    "    \"IN_PUBLICA\",\n",
    "    \"ID_LOCALIZACAO\",\n",
    "    \"IN_PREENCHIMENTO_LP\",\n",
    "    \"IN_PREENCHIMENTO_MT\",\n",
    "    \"PROFICIENCIA_MT\",\n",
    "    \"PROFICIENCIA_LP\"\n",
    "]]\n",
    "\n",
    "\n",
    "# %%\n",
    "dfsaeb5ef.isnull().any(axis=1).sum()\n",
    "dfsaeb5ef.dropna(inplace=True)\n",
    "dfsaeb5ef.isnull().any(axis=1).sum()\n",
    "\n",
    "# %%\n",
    "dfsaeb5ef[\"UF_NOME\"] = dfsaeb5ef[\"ID_UF\"].map(uf_map)\n",
    "dfsaeb5ef[\"REGIAO_NOME\"] = dfsaeb5ef[\"ID_REGIAO\"].map(regiao_map)\n",
    "dfsaeb5ef[\"DEPENDENCIA_NOME\"] = dfsaeb5ef[\"IN_PUBLICA\"].map(publica_map)\n",
    "dfsaeb5ef[\"URB_NOME\"] = dfsaeb5ef[\"ID_AREA\"].map(area_map)\n",
    "dfsaeb5ef[\"LOCALIZACAO_NOME\"] = dfsaeb5ef[\"ID_LOCALIZACAO\"].map(local_map)\n",
    "\n",
    "# %%\n",
    "dfsaeb5ef = dfsaeb5ef.drop(columns=['ID_REGIAO', 'ID_UF', 'ID_AREA', 'IN_PUBLICA', 'ID_LOCALIZACAO'])\n",
    "\n",
    "# %%\n",
    "dfs5ef_agg = dfsaeb5ef.groupby(['UF_NOME', 'DEPENDENCIA_NOME', 'LOCALIZACAO_NOME']).agg({\n",
    "        'IN_PREENCHIMENTO_LP': get_prop,\n",
    "        'IN_PREENCHIMENTO_MT': get_prop,\n",
    "        'PROFICIENCIA_MT': \"median\",\n",
    "        'PROFICIENCIA_LP': \"median\"\n",
    "       }).reset_index()\n"
   ]
  },
  {
   "cell_type": "code",
   "execution_count": 16,
   "id": "45703910",
   "metadata": {},
   "outputs": [],
   "source": [
    "dfsaeb9ef = dfsaeb9ef[[\n",
    "    \"ID_REGIAO\",\n",
    "    \"ID_UF\",\n",
    "    \"ID_AREA\",\n",
    "    \"IN_PUBLICA\",\n",
    "    \"ID_LOCALIZACAO\",\n",
    "    \"IN_PREENCHIMENTO_LP\",\n",
    "    \"IN_PREENCHIMENTO_MT\",\n",
    "    \"PROFICIENCIA_MT\",\n",
    "    \"PROFICIENCIA_LP\"\n",
    "]]\n",
    "\n",
    "\n",
    "# %%\n",
    "dfsaeb9ef.isnull().any(axis=1).sum()\n",
    "dfsaeb9ef.dropna(inplace=True)\n",
    "dfsaeb9ef.isnull().any(axis=1).sum()\n",
    "\n",
    "# %%\n",
    "dfsaeb9ef[\"UF_NOME\"] = dfsaeb9ef[\"ID_UF\"].map(uf_map)\n",
    "dfsaeb9ef[\"REGIAO_NOME\"] = dfsaeb9ef[\"ID_REGIAO\"].map(regiao_map)\n",
    "dfsaeb9ef[\"DEPENDENCIA_NOME\"] = dfsaeb9ef[\"IN_PUBLICA\"].map(publica_map)\n",
    "dfsaeb9ef[\"URB_NOME\"] = dfsaeb9ef[\"ID_AREA\"].map(area_map)\n",
    "dfsaeb9ef[\"LOCALIZACAO_NOME\"] = dfsaeb9ef[\"ID_LOCALIZACAO\"].map(local_map)\n",
    "\n",
    "# %%\n",
    "dfsaeb9ef = dfsaeb9ef.drop(columns=['ID_REGIAO', 'ID_UF', 'ID_AREA', 'IN_PUBLICA', 'ID_LOCALIZACAO'])\n",
    "\n",
    "# %%\n",
    "dfs9ef_agg = dfsaeb9ef.groupby(['UF_NOME', 'DEPENDENCIA_NOME', 'LOCALIZACAO_NOME']).agg({\n",
    "        'IN_PREENCHIMENTO_LP': get_prop,\n",
    "        'IN_PREENCHIMENTO_MT': get_prop,\n",
    "        'PROFICIENCIA_MT': \"median\",\n",
    "        'PROFICIENCIA_LP': \"median\"\n",
    "       }).reset_index()"
   ]
  },
  {
   "cell_type": "code",
   "execution_count": 17,
   "id": "cdbf24f6",
   "metadata": {},
   "outputs": [],
   "source": [
    "# dfc_agg.to_csv(\"../datasets/grouped/censo.csv\")\n",
    "# dfs2ef_agg.to_csv(\"../datasets/grouped/saeb2ef.csv\")\n",
    "# dfs5ef_agg.to_csv(\"../datasets/grouped/saeb5ef.csv\")\n",
    "# dfs9ef_agg.to_csv(\"../datasets/grouped/saeb9ef.csv\")"
   ]
  },
  {
   "cell_type": "code",
   "execution_count": 18,
   "id": "9f766ad9",
   "metadata": {},
   "outputs": [],
   "source": [
    "cols_chave = [\"UF_NOME\", \"DEPENDENCIA_NOME\", \"LOCALIZACAO_NOME\"]\n",
    "for col in cols_chave:\n",
    "    dfc_agg[col] = dfc_agg[col].astype(str)\n",
    "    dfs2ef_agg[col] = dfs2ef_agg[col].astype(str)\n"
   ]
  },
  {
   "cell_type": "code",
   "execution_count": 19,
   "id": "d8dc36cc",
   "metadata": {},
   "outputs": [],
   "source": [
    "for col in cols_chave:\n",
    "    dfc_agg[col] = dfc_agg[col].str.strip()\n",
    "    dfs2ef_agg[col] = dfs2ef_agg[col].str.strip()\n"
   ]
  },
  {
   "cell_type": "code",
   "execution_count": 20,
   "id": "ea578485",
   "metadata": {},
   "outputs": [
    {
     "name": "stdout",
     "output_type": "stream",
     "text": [
      "_merge\n",
      "both          102\n",
      "left_only       0\n",
      "right_only      0\n",
      "Name: count, dtype: int64\n",
      "_merge\n",
      "both          100\n",
      "left_only       0\n",
      "right_only      0\n",
      "Name: count, dtype: int64\n",
      "_merge\n",
      "both          103\n",
      "left_only       0\n",
      "right_only      0\n",
      "Name: count, dtype: int64\n"
     ]
    }
   ],
   "source": [
    "df2ef_merged= pd.merge(\n",
    "    dfc_agg,\n",
    "    dfs2ef_agg,\n",
    "    on=[\"UF_NOME\", \"DEPENDENCIA_NOME\", \"LOCALIZACAO_NOME\"],\n",
    "    how=\"inner\",\n",
    "    indicator=True\n",
    "    )\n",
    "\n",
    "df5ef_merged = pd.merge(\n",
    "    dfc_agg,\n",
    "    dfs5ef_agg,\n",
    "    on=[\"UF_NOME\", \"DEPENDENCIA_NOME\", \"LOCALIZACAO_NOME\"],\n",
    "    how=\"inner\",\n",
    "    indicator=True\n",
    "    )\n",
    "\n",
    "df9ef_merged = pd.merge(\n",
    "    dfc_agg,\n",
    "    dfs9ef_agg,\n",
    "    on=[\"UF_NOME\", \"DEPENDENCIA_NOME\", \"LOCALIZACAO_NOME\"],\n",
    "    how=\"inner\",\n",
    "    indicator=True\n",
    "    )\n",
    "\n",
    "print(df2ef_merged[\"_merge\"].value_counts())\n",
    "print(df5ef_merged[\"_merge\"].value_counts())\n",
    "print(df9ef_merged[\"_merge\"].value_counts())"
   ]
  },
  {
   "cell_type": "code",
   "execution_count": 21,
   "id": "0519fd40",
   "metadata": {},
   "outputs": [
    {
     "name": "stdout",
     "output_type": "stream",
     "text": [
      "27004\n",
      "2089990\n",
      "2087904\n",
      "180230\n"
     ]
    }
   ],
   "source": [
    "dataframes = [dfsaeb2ef,dfsaeb5ef,dfsaeb9ef,dfcenso]\n",
    "for d in dataframes:\n",
    "    print(len(d))"
   ]
  },
  {
   "cell_type": "code",
   "execution_count": 22,
   "id": "3a38a562",
   "metadata": {},
   "outputs": [],
   "source": [
    "# df_merged.to_csv(\"../datasets/merged/dataset.csv\")"
   ]
  },
  {
   "cell_type": "code",
   "execution_count": 24,
   "id": "4e1272af",
   "metadata": {},
   "outputs": [],
   "source": [
    "df5ef_merged.to_csv(\"../datasets/merged/5ef_merged.csv\")\n",
    "df2ef_merged.to_csv(\"../datasets/merged/2ef_merged.csv\")\n",
    "df9ef_merged.to_csv(\"../datasets/merged/9ef_merged.csv\")"
   ]
  },
  {
   "cell_type": "code",
   "execution_count": null,
   "id": "96d09d4a",
   "metadata": {},
   "outputs": [],
   "source": []
  }
 ],
 "metadata": {
  "kernelspec": {
   "display_name": "cpa",
   "language": "python",
   "name": "python3"
  },
  "language_info": {
   "codemirror_mode": {
    "name": "ipython",
    "version": 3
   },
   "file_extension": ".py",
   "mimetype": "text/x-python",
   "name": "python",
   "nbconvert_exporter": "python",
   "pygments_lexer": "ipython3",
   "version": "3.13.2"
  }
 },
 "nbformat": 4,
 "nbformat_minor": 5
}
