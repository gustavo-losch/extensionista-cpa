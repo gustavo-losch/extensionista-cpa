{
 "cells": [
  {
   "cell_type": "code",
   "execution_count": 141,
   "id": "91b5dafb",
   "metadata": {},
   "outputs": [],
   "source": [
    "import pandas as pd\n",
    "import numpy as np"
   ]
  },
  {
   "cell_type": "code",
   "execution_count": 142,
   "id": "3f8ac8be",
   "metadata": {},
   "outputs": [
    {
     "name": "stderr",
     "output_type": "stream",
     "text": [
      "/var/folders/y7/h9b651_1543gvb5qx83kjqg40000gn/T/ipykernel_92669/4264899146.py:1: DtypeWarning: Columns (31) have mixed types. Specify dtype option on import or set low_memory=False.\n",
      "  dfcenso = pd.read_csv(\"/Users/elainelosch/gustavo/datasets/censo-escolar/dados/microdados_ed_basica_2023.csv\", encoding=\"latin\", sep=\";\")\n",
      "/var/folders/y7/h9b651_1543gvb5qx83kjqg40000gn/T/ipykernel_92669/4264899146.py:3: DtypeWarning: Columns (41,42,43,44,45,46,47,48,49) have mixed types. Specify dtype option on import or set low_memory=False.\n",
      "  dfsaeb5ef = pd.read_csv(\"/Users/elainelosch/gustavo/datasets/saeb/DADOS/TS_ALUNO_5EF.csv\", encoding=\"latin\", sep=\";\")\n",
      "/var/folders/y7/h9b651_1543gvb5qx83kjqg40000gn/T/ipykernel_92669/4264899146.py:4: DtypeWarning: Columns (41,42,43,44,45,46,47,48,49) have mixed types. Specify dtype option on import or set low_memory=False.\n",
      "  dfsaeb9ef = pd.read_csv(\"/Users/elainelosch/gustavo/datasets/saeb/DADOS/TS_ALUNO_9EF.csv\", encoding=\"latin\", sep=\";\")\n"
     ]
    }
   ],
   "source": [
    "dfcenso = pd.read_csv(\"/Users/elainelosch/gustavo/datasets/censo-escolar/dados/microdados_ed_basica_2023.csv\", encoding=\"latin\", sep=\";\")\n",
    "dfsaeb2ef = pd.read_csv(\"/Users/elainelosch/gustavo/datasets/saeb/DADOS/TS_ALUNO_2EF.csv\", encoding=\"latin\", sep=\";\")\n",
    "dfsaeb5ef = pd.read_csv(\"/Users/elainelosch/gustavo/datasets/saeb/DADOS/TS_ALUNO_5EF.csv\", encoding=\"latin\", sep=\";\")\n",
    "dfsaeb9ef = pd.read_csv(\"/Users/elainelosch/gustavo/datasets/saeb/DADOS/TS_ALUNO_9EF.csv\", encoding=\"latin\", sep=\";\")"
   ]
  },
  {
   "cell_type": "code",
   "execution_count": 143,
   "id": "b4d23c75",
   "metadata": {},
   "outputs": [],
   "source": [
    "dfcenso = dfcenso[[\n",
    "    \"NO_REGIAO\",\n",
    "    \"CO_UF\",\n",
    "    \"TP_DEPENDENCIA\",\n",
    "    # \"TP_CATEGORIA_ESCOLA_PRIVADA\",\n",
    "    \"TP_LOCALIZACAO\",\n",
    "    \"IN_AGUA_POTAVEL\",\n",
    "    \"IN_ENERGIA_INEXISTENTE\",\n",
    "    \"IN_BIBLIOTECA\",\n",
    "    \"IN_LABORATORIO_CIENCIAS\",\n",
    "    \"IN_LABORATORIO_INFORMATICA\",\n",
    "    \"IN_COMPUTADOR\",\n",
    "    \"IN_EQUIP_IMPRESSORA\",\n",
    "    \"IN_EQUIP_TV\",\n",
    "    \"QT_EQUIP_TV\",\n",
    "    \"IN_EQUIP_LOUSA_DIGITAL\",\n",
    "    \"QT_EQUIP_LOUSA_DIGITAL\",\n",
    "    \"IN_EQUIP_MULTIMIDIA\",\n",
    "    \"QT_EQUIP_MULTIMIDIA\",\n",
    "    \"IN_DESKTOP_ALUNO\",\n",
    "    \"QT_DESKTOP_ALUNO\",\n",
    "    \"IN_COMP_PORTATIL_ALUNO\",\n",
    "    \"QT_COMP_PORTATIL_ALUNO\",\n",
    "    \"IN_INTERNET\",\n",
    "    \"IN_INTERNET_ALUNOS\",\n",
    "    \"IN_MATERIAL_PED_MULTIMIDIA\"\n",
    "]]\n"
   ]
  },
  {
   "cell_type": "code",
   "execution_count": 144,
   "id": "cf327225",
   "metadata": {},
   "outputs": [
    {
     "data": {
      "text/plain": [
       "np.int64(0)"
      ]
     },
     "execution_count": 144,
     "metadata": {},
     "output_type": "execute_result"
    }
   ],
   "source": [
    "dfcenso.isnull().any(axis=1).sum()\n",
    "dfcenso.dropna(inplace=True)\n",
    "dfcenso.isnull().any(axis=1).sum()"
   ]
  },
  {
   "cell_type": "code",
   "execution_count": 145,
   "id": "71a85061",
   "metadata": {},
   "outputs": [],
   "source": [
    "uf_map = {\n",
    "    11: \"RO\", 12: \"AC\", 13: \"AM\", 14: \"RR\", 15: \"PA\", 16: \"AP\", 17: \"TO\",\n",
    "    21: \"MA\", 22: \"PI\", 23: \"CE\", 24: \"RN\", 25: \"PB\", 26: \"PE\", 27: \"AL\", 28: \"SE\", 29: \"BA\",\n",
    "    31: \"MG\", 32: \"ES\", 33: \"RJ\", 35: \"SP\",\n",
    "    41: \"PR\", 42: \"SC\", 43: \"RS\",\n",
    "    50: \"MS\", 51: \"MT\", 52: \"GO\", 53: \"DF\"\n",
    "}\n",
    "\n",
    "dependencia_map = {\n",
    "    1: \"Federal\",\n",
    "    2: \"Estadual\",\n",
    "    3: \"Municipal\",\n",
    "    4: \"Privada\"\n",
    "}\n",
    "\n",
    "local_map = {\n",
    "    1: \"Urbana\",\n",
    "    2: \"Rural\"\n",
    "}\n",
    "\n",
    "dfcenso[\"LOCALIZACAO_NOME\"] = dfcenso[\"TP_LOCALIZACAO\"].map(local_map)\n",
    "dfcenso[\"DEPENDENCIA_NOME\"] = dfcenso[\"TP_DEPENDENCIA\"].map(dependencia_map)\n",
    "dfcenso[\"UF_NOME\"] = dfcenso[\"CO_UF\"].map(uf_map)\n"
   ]
  },
  {
   "cell_type": "code",
   "execution_count": 146,
   "id": "fa1ab97f",
   "metadata": {},
   "outputs": [],
   "source": [
    "def get_prop(x):\n",
    "    return x.value_counts(normalize=True).get(1, 0.0)"
   ]
  },
  {
   "cell_type": "code",
   "execution_count": null,
   "id": "7316c6c7",
   "metadata": {},
   "outputs": [
    {
     "name": "stdout",
     "output_type": "stream",
     "text": [
      "{'IN_AGUA_POTAVEL': <function get_prop at 0x4d66d07c0>, 'IN_ENERGIA_INEXISTENTE': <function get_prop at 0x4d66d07c0>, 'IN_BIBLIOTECA': <function get_prop at 0x4d66d07c0>, 'IN_LABORATORIO_CIENCIAS': <function get_prop at 0x4d66d07c0>, 'IN_LABORATORIO_INFORMATICA': <function get_prop at 0x4d66d07c0>, 'IN_COMPUTADOR': <function get_prop at 0x4d66d07c0>, 'IN_EQUIP_IMPRESSORA': <function get_prop at 0x4d66d07c0>, 'IN_EQUIP_TV': <function get_prop at 0x4d66d07c0>, 'QT_EQUIP_TV': 'median', 'IN_EQUIP_LOUSA_DIGITAL': <function get_prop at 0x4d66d07c0>, 'QT_EQUIP_LOUSA_DIGITAL': 'median', 'IN_EQUIP_MULTIMIDIA': <function get_prop at 0x4d66d07c0>, 'QT_EQUIP_MULTIMIDIA': 'median', 'IN_DESKTOP_ALUNO': <function get_prop at 0x4d66d07c0>, 'QT_DESKTOP_ALUNO': 'median', 'IN_COMP_PORTATIL_ALUNO': <function get_prop at 0x4d66d07c0>, 'QT_COMP_PORTATIL_ALUNO': 'median', 'IN_INTERNET': <function get_prop at 0x4d66d07c0>, 'IN_INTERNET_ALUNOS': <function get_prop at 0x4d66d07c0>, 'IN_MATERIAL_PED_MULTIMIDIA': <function get_prop at 0x4d66d07c0>}\n"
     ]
    }
   ],
   "source": [
    "agg_dict = {}\n",
    "\n",
    "for col in dfcenso.columns:\n",
    "    if col.startswith(\"IN_\"):\n",
    "        agg_dict[col] = get_prop\n",
    "    elif col.startswith(\"QT_\"):\n",
    "        agg_dict[col] = \"median \"\n",
    "\n",
    "print(agg_dict)"
   ]
  },
  {
   "cell_type": "code",
   "execution_count": 148,
   "id": "8e7dbe62",
   "metadata": {},
   "outputs": [],
   "source": [
    "dfs=dfcenso.groupby([\"NO_REGIAO\", \"UF_NOME\",\"DEPENDENCIA_NOME\",\"LOCALIZACAO_NOME\"]).agg(agg_dict).reset_index()"
   ]
  },
  {
   "cell_type": "code",
   "execution_count": 149,
   "id": "4360af0f",
   "metadata": {},
   "outputs": [],
   "source": [
    "dfs.to_csv(\"../datasets/preproc/censo.csv\")"
   ]
  }
 ],
 "metadata": {
  "kernelspec": {
   "display_name": "cpa",
   "language": "python",
   "name": "python3"
  },
  "language_info": {
   "codemirror_mode": {
    "name": "ipython",
    "version": 3
   },
   "file_extension": ".py",
   "mimetype": "text/x-python",
   "name": "python",
   "nbconvert_exporter": "python",
   "pygments_lexer": "ipython3",
   "version": "3.13.2"
  }
 },
 "nbformat": 4,
 "nbformat_minor": 5
}
